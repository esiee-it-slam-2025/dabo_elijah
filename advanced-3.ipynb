{
 "cells": [
  {
   "cell_type": "markdown",
   "metadata": {},
   "source": [
    "![Header](assets/header_advanced-3.svg)\n",
    "\n",
    "# Advanced ③\n",
    "\n",
    "Il nous reste plus que quelques choses à voir afin d'être opérationnel dans l'usage du langage et de tout ce qui l'entoure.\n",
    "\n",
    "Après l'étude de quelques bibliothèques standard majeures puis l'installation d'une première bibliothèque tierce, vous devriez être capable de créer des projets Python de plus grande ampleur.\n",
    "\n",
    "# Notions de ce cours\n",
    "\n",
    "* 🖊️ La levée d'exceptions avec `raise`\n",
    "* 🖊️ La levée d'exceptions de debug avec `assert`\n",
    "* 🖊️ Set et frozenset\n",
    "* 🔨 ️Lire et manipuler un set\n",
    "* 🧰 Bibliothèque standard - `os.path`\n",
    "* 🧰 Bibliothèque standard - `datetime`\n",
    "* 🧰 Bibliothèque standard - `json`\n",
    "* ⚙️ Installer un paquet avec PIP\n",
    "* ⚙️ Les environnements virtuels\n",
    "* 📚 Bibliothèque tierce - Pillow"
   ]
  },
  {
   "cell_type": "markdown",
   "metadata": {},
   "source": [
    "---\n",
    "\n",
    "## 🖊️ La levée d'exceptions avec `raise`\n",
    "\n",
    "Après avoir vu comment **attraper** les exceptions qui peuvent se produire lors de l'exécution de notre code, il est temps d'apprendre à créer nos propres exceptions. Lorsqu'il arrive une erreur suffisamment importante pour vouloir la \"remonter\", c'est à dire la \"propager\" à travers notre code, on dit que l'on va \"lever\" (raise) une exception.\n",
    "\n",
    "Voyons d'abord un exemple de code ayant une **expression booléenne** qui détermine si quelque chose doit s'exécuter ou non. Ici, l'application \"appareil photo\" d'un téléphone vérifie s'il ne fait pas trop chaud, car la prise de vidéos en haute résolution peut vite entraîner une chauffe du téléphone avec de lourds dégâts. "
   ]
  },
  {
   "cell_type": "code",
   "execution_count": 10,
   "metadata": {},
   "outputs": [
    {
     "name": "stdout",
     "output_type": "stream",
     "text": [
      "Ouverture de l'appareil photo du téléphone.\n",
      "La température extérieure est trop élevée.\n"
     ]
    }
   ],
   "source": [
    "print(\"Ouverture de l'appareil photo du téléphone.\")\n",
    "temperature = 42\n",
    "\n",
    "if temperature >= 40:\n",
    "    print(\"La température extérieure est trop élevée.\")\n",
    "else:\n",
    "    print(\"Cheese !\")"
   ]
  },
  {
   "cell_type": "markdown",
   "metadata": {},
   "source": [
    "L'**expression booléenne** du bloc `if` représentant le cas où il y a un problème, c'est ici que l'on pourrait souhaiter **lever une exception**. Il nous faut d'abord créer une exception correspondant à notre cas problématique, c'est à dire :\n",
    "\n",
    "* Créer une classe vide héritant de `Exception`, et au nom explicite représentant notre cas d'erreur\n",
    "* Lever une instance de cette exception, au moment où le cas d'erreur visé survient dans notre code"
   ]
  },
  {
   "cell_type": "code",
   "execution_count": 11,
   "metadata": {},
   "outputs": [
    {
     "name": "stdout",
     "output_type": "stream",
     "text": [
      "Ouverture de l'appareil photo du téléphone.\n"
     ]
    },
    {
     "ename": "TemperatureTooHot",
     "evalue": "La température extérieure est trop élevée.",
     "output_type": "error",
     "traceback": [
      "\u001b[1;31m---------------------------------------------------------------------------\u001b[0m",
      "\u001b[1;31mTemperatureTooHot\u001b[0m                         Traceback (most recent call last)",
      "\u001b[1;32mm:\\code\\_esiee2023\\python-course\\cours\\advanced-3.ipynb Cell 5'\u001b[0m in \u001b[0;36m<cell line: 8>\u001b[1;34m()\u001b[0m\n\u001b[0;32m      <a href='vscode-notebook-cell:/m%3A/code/_esiee2023/python-course/cours/advanced-3.ipynb#ch0000004?line=5'>6</a>\u001b[0m temperature \u001b[39m=\u001b[39m \u001b[39m42\u001b[39m\n\u001b[0;32m      <a href='vscode-notebook-cell:/m%3A/code/_esiee2023/python-course/cours/advanced-3.ipynb#ch0000004?line=7'>8</a>\u001b[0m \u001b[39mif\u001b[39;00m temperature \u001b[39m>\u001b[39m\u001b[39m=\u001b[39m \u001b[39m40\u001b[39m:\n\u001b[0;32m      <a href='vscode-notebook-cell:/m%3A/code/_esiee2023/python-course/cours/advanced-3.ipynb#ch0000004?line=8'>9</a>\u001b[0m     \u001b[39m# Levée d'une nouvelle instance de notre exception\u001b[39;00m\n\u001b[1;32m---> <a href='vscode-notebook-cell:/m%3A/code/_esiee2023/python-course/cours/advanced-3.ipynb#ch0000004?line=9'>10</a>\u001b[0m     \u001b[39mraise\u001b[39;00m TemperatureTooHot(\u001b[39m\"\u001b[39m\u001b[39mLa température extérieure est trop élevée.\u001b[39m\u001b[39m\"\u001b[39m)\n\u001b[0;32m     <a href='vscode-notebook-cell:/m%3A/code/_esiee2023/python-course/cours/advanced-3.ipynb#ch0000004?line=10'>11</a>\u001b[0m \u001b[39melse\u001b[39;00m:\n\u001b[0;32m     <a href='vscode-notebook-cell:/m%3A/code/_esiee2023/python-course/cours/advanced-3.ipynb#ch0000004?line=11'>12</a>\u001b[0m     \u001b[39mprint\u001b[39m(\u001b[39m\"\u001b[39m\u001b[39mCheese !\u001b[39m\u001b[39m\"\u001b[39m)\n",
      "\u001b[1;31mTemperatureTooHot\u001b[0m: La température extérieure est trop élevée."
     ]
    }
   ],
   "source": [
    "# Déclaration de la classe de notre exception\n",
    "class TemperatureTooHot(Exception):\n",
    "    pass\n",
    "\n",
    "print(\"Ouverture de l'appareil photo du téléphone.\")\n",
    "temperature = 42\n",
    "\n",
    "if temperature >= 40:\n",
    "    # Levée d'une nouvelle instance de notre exception\n",
    "    raise TemperatureTooHot(\"La température extérieure est trop élevée.\")\n",
    "else:\n",
    "    print(\"Cheese !\")"
   ]
  },
  {
   "cell_type": "markdown",
   "metadata": {},
   "source": [
    "L'intérêt des exceptions est que, même levées dans une fonction qui appelle une fonction qui en appelle une autre, on pourra toujours finir par la capturer grâce au bloc `try/except` vu dans le chapitre de cours précédent.\n",
    "\n",
    "Voyons un exemple avec un enchaînement de fonctions imbriquées, et une exception qui est levée au sein de l'une d'entre elles."
   ]
  },
  {
   "cell_type": "code",
   "execution_count": null,
   "metadata": {},
   "outputs": [
    {
     "name": "stdout",
     "output_type": "stream",
     "text": [
      "1. Lecture du formulaire...\n",
      "2. Gestion de la commande...\n",
      "3. Vérification du paiement...\n",
      "Le paiement a échoué sur la devise : On n'accepte que les paiements en euro !\n"
     ]
    },
    {
     "data": {
      "text/plain": [
       "'Code HTTP 500 (Internal Server Error)'"
      ]
     },
     "execution_count": 12,
     "metadata": {},
     "output_type": "execute_result"
    }
   ],
   "source": [
    "class PaymentBadCurrency(Exception):\n",
    "    pass\n",
    "\n",
    "# 3ème fonction appelée\n",
    "def verifier_paiement(devise):\n",
    "    print(\"3. Vérification du paiement...\")\n",
    "    if devise != \"euro\":\n",
    "        # Levée de l'exception\n",
    "        raise PaymentBadCurrency(\"On n'accepte que les paiements en euro !\")\n",
    "\n",
    "# 2ème fonction appelée\n",
    "def gerer_commande(devise):\n",
    "    print(\"2. Gestion de la commande...\")\n",
    "    verifier_paiement(devise)\n",
    "\n",
    "# 1ère fonction appelée\n",
    "def lire_formulaire(devise):\n",
    "    print(\"1. Lecture du formulaire...\")\n",
    "    # Avant d'appeler la 2ème fonction, on se prépare à la capture\n",
    "    # d'une éventuelle exception plus loin dans le code\n",
    "    try:\n",
    "        gerer_commande(devise)\n",
    "    except PaymentBadCurrency as err:\n",
    "        print(f\"Le paiement a échoué sur la devise : {err}\")\n",
    "        return \"Code HTTP 500 (Internal Server Error)\"\n",
    "    \n",
    "    print(\"Formulaire de paiement géré avec succès.\")\n",
    "    return \"Code HTTP 200 (OK)\"\n",
    "\n",
    "# Remplacez \"yen\" par \"euro\" pour tester un comportement sans erreur\n",
    "lire_formulaire(\"yen\")"
   ]
  },
  {
   "cell_type": "markdown",
   "metadata": {},
   "source": [
    "---\n",
    "## 🖊️ La levée d'exceptions de debug avec `assert`"
   ]
  },
  {
   "cell_type": "markdown",
   "metadata": {},
   "source": [
    "Il existe une façon simplifiée de lever immédiatement une exception afin d'arrêter un programme car il n'y a pas de sens d'aller plus loin. Cependant, il ne faut s'en servir qu'à des fins de **débogage** ou lors de **tests unitaires**. Tout code voulant proprement gérer ses exceptions doit les lever avec `raise` et les capturer avec `try/except`.\n",
    "\n",
    "Cette façon simplifiée utilise le mot-clé `assert` qui sera suivi d'une expression booléenne représentant un cas où tout se passe bien. Mais si lors de l'exécution du code, l'expression s'avère fausse, alors Python lèvera une exception de type `AssertionError` (classe héritant de `Exception`).\n",
    "\n",
    "Son usage se fait sous la forme `assert [expression booléenne]`. Sur l'exemple précédent, vérifions un cas qui est censé être rare mais que l'on devrait peut-être vérifier lors du développement d'une application de photographie : la présence ou l'absence d'appareil photo sur un téléphone."
   ]
  },
  {
   "cell_type": "code",
   "execution_count": null,
   "metadata": {},
   "outputs": [
    {
     "name": "stdout",
     "output_type": "stream",
     "text": [
      "Ouverture de l'appareil photo du téléphone.\n"
     ]
    },
    {
     "ename": "AssertionError",
     "evalue": "",
     "output_type": "error",
     "traceback": [
      "\u001b[1;31m---------------------------------------------------------------------------\u001b[0m",
      "\u001b[1;31mAssertionError\u001b[0m                            Traceback (most recent call last)",
      "\u001b[1;32mm:\\code\\_esiee2023\\python-course\\cours\\intermediaire2.ipynb Cell 19'\u001b[0m in \u001b[0;36m<module>\u001b[1;34m\u001b[0m\n\u001b[0;32m      <a href='vscode-notebook-cell:/m%3A/code/_esiee2023/python-course/cours/intermediaire2.ipynb#ch0000064?line=0'>1</a>\u001b[0m \u001b[39mprint\u001b[39m(\u001b[39m\"\u001b[39m\u001b[39mOuverture de l\u001b[39m\u001b[39m'\u001b[39m\u001b[39mappareil photo du téléphone.\u001b[39m\u001b[39m\"\u001b[39m)\n\u001b[0;32m      <a href='vscode-notebook-cell:/m%3A/code/_esiee2023/python-course/cours/intermediaire2.ipynb#ch0000064?line=1'>2</a>\u001b[0m hasBackCamera \u001b[39m=\u001b[39m \u001b[39mFalse\u001b[39;00m\n\u001b[1;32m----> <a href='vscode-notebook-cell:/m%3A/code/_esiee2023/python-course/cours/intermediaire2.ipynb#ch0000064?line=3'>4</a>\u001b[0m \u001b[39massert\u001b[39;00m hasBackCamera \u001b[39m==\u001b[39m \u001b[39mTrue\u001b[39;00m\n\u001b[0;32m      <a href='vscode-notebook-cell:/m%3A/code/_esiee2023/python-course/cours/intermediaire2.ipynb#ch0000064?line=5'>6</a>\u001b[0m \u001b[39mprint\u001b[39m(\u001b[39m\"\u001b[39m\u001b[39mCheese !\u001b[39m\u001b[39m\"\u001b[39m)\n",
      "\u001b[1;31mAssertionError\u001b[0m: "
     ]
    }
   ],
   "source": [
    "print(\"Ouverture de l'appareil photo du téléphone.\")\n",
    "hasBackCamera = False\n",
    "\n",
    "assert hasBackCamera == True\n",
    "\n",
    "print(\"Cheese !\")"
   ]
  },
  {
   "cell_type": "markdown",
   "metadata": {},
   "source": [
    "L'erreur affichée par Python vous montre clairement où s'est déroulée l'exception, ainsi que son type `AssertionError`.\n",
    "\n",
    "Pour être plus utile au développeur, on peut préciser un message qui puisse accompagner cette exception : il suffit de l'écrire juste après l'expression booléenne du `assert`.\n",
    "\n",
    "On écrit donc finalement `assert [expression booléenne], [message de l'exception levée]`"
   ]
  },
  {
   "cell_type": "code",
   "execution_count": null,
   "metadata": {},
   "outputs": [
    {
     "name": "stdout",
     "output_type": "stream",
     "text": [
      "Ouverture de l'appareil photo du téléphone.\n"
     ]
    },
    {
     "ename": "AssertionError",
     "evalue": "Le téléphone n'a pas d'appareil photo",
     "output_type": "error",
     "traceback": [
      "\u001b[1;31m---------------------------------------------------------------------------\u001b[0m",
      "\u001b[1;31mAssertionError\u001b[0m                            Traceback (most recent call last)",
      "\u001b[1;32mm:\\code\\_esiee2023\\python-course\\cours\\intermediaire2.ipynb Cell 21'\u001b[0m in \u001b[0;36m<module>\u001b[1;34m\u001b[0m\n\u001b[0;32m      <a href='vscode-notebook-cell:/m%3A/code/_esiee2023/python-course/cours/intermediaire2.ipynb#ch0000066?line=0'>1</a>\u001b[0m \u001b[39mprint\u001b[39m(\u001b[39m\"\u001b[39m\u001b[39mOuverture de l\u001b[39m\u001b[39m'\u001b[39m\u001b[39mappareil photo du téléphone.\u001b[39m\u001b[39m\"\u001b[39m)\n\u001b[0;32m      <a href='vscode-notebook-cell:/m%3A/code/_esiee2023/python-course/cours/intermediaire2.ipynb#ch0000066?line=1'>2</a>\u001b[0m hasBackCamera \u001b[39m=\u001b[39m \u001b[39mFalse\u001b[39;00m\n\u001b[1;32m----> <a href='vscode-notebook-cell:/m%3A/code/_esiee2023/python-course/cours/intermediaire2.ipynb#ch0000066?line=3'>4</a>\u001b[0m \u001b[39massert\u001b[39;00m hasBackCamera \u001b[39m==\u001b[39m \u001b[39mTrue\u001b[39;00m, \u001b[39m\"\u001b[39m\u001b[39mLe téléphone n\u001b[39m\u001b[39m'\u001b[39m\u001b[39ma pas d\u001b[39m\u001b[39m'\u001b[39m\u001b[39mappareil photo\u001b[39m\u001b[39m\"\u001b[39m\n\u001b[0;32m      <a href='vscode-notebook-cell:/m%3A/code/_esiee2023/python-course/cours/intermediaire2.ipynb#ch0000066?line=5'>6</a>\u001b[0m \u001b[39mprint\u001b[39m(\u001b[39m\"\u001b[39m\u001b[39mCheese !\u001b[39m\u001b[39m\"\u001b[39m)\n",
      "\u001b[1;31mAssertionError\u001b[0m: Le téléphone n'a pas d'appareil photo"
     ]
    }
   ],
   "source": [
    "print(\"Ouverture de l'appareil photo du téléphone.\")\n",
    "hasBackCamera = False\n",
    "\n",
    "assert hasBackCamera == True, \"Le téléphone n'a pas d'appareil photo\"\n",
    "\n",
    "print(\"Cheese !\")"
   ]
  },
  {
   "cell_type": "markdown",
   "metadata": {},
   "source": [
    "---\n",
    "## 🧰 Bibliothèque standard - `os.path`\n",
    "\n",
    "Cette petite bibliothèque sert à réaliser de nombreuses opérations en rapport avec des **chemins** de dossiers ou de fichiers.\n",
    "\n",
    "Bien que cela peut paraître trivial, souvenez-vous que les systèmes d'exploitation ont différents séparateurs au sein des chemins de dossiers : `\\` pour Windows, `/` pour Unix (et donc aussi Linux et macOS)... d'où l'utilité d'avoir un moyen de toujours utiliser le bon séparateur qu'importe l'OS sur lequel tourne notre code Python.\n",
    "\n",
    "Parmi toutes les fonctions de cette bibliothèque, voici les plus utiles :\n",
    "\n",
    "* `.join()` : construit un chemin en utilisant le bon séparateur du système d'exploitation actuel\n",
    "* `.exists()` : renvoie si le chemin passé est un fichier ou dossier qui existe\n",
    "* `.isfile()` : renvoie si le chemin passé est un fichier\n",
    "* `.isdir()` : renvoie si le chemin passé est un dossier\n",
    "* `.splitext()` : à partir d'un chemin, renvoie séparément le chemin complet du fichier, puis l'extension du fichier"
   ]
  },
  {
   "cell_type": "code",
   "execution_count": 2,
   "metadata": {},
   "outputs": [
    {
     "name": "stdout",
     "output_type": "stream",
     "text": [
      "assets\\testfile.txt\n",
      "Existe ? True\n",
      "Fichier ? True\n",
      "Dossier ? False\n",
      "Le fichier assets\\testfile a pour extension .txt\n"
     ]
    }
   ],
   "source": [
    "import os\n",
    "\n",
    "testpath = os.path.join(\"assets\", \"testfile.txt\")\n",
    "print(testpath)\n",
    "print(f\"Existe ? {os.path.exists(testpath)}\")\n",
    "print(f\"Fichier ? {os.path.isfile(testpath)}\")\n",
    "print(f\"Dossier ? {os.path.isdir(testpath)}\")\n",
    "filename, ext = os.path.splitext(testpath)\n",
    "print(f\"Le fichier {filename} a pour extension {ext}\")"
   ]
  },
  {
   "cell_type": "markdown",
   "metadata": {},
   "source": [
    "---\n",
    "\n",
    "## 🧰 Bibliothèque standard - `datetime`\n",
    "\n",
    "Depuis très longtemps, l'informatique a choisi de stocker facilement une date et une heure donnée en comptant le nombre de secondes écoulées depuis ce qu'on appelle l'[**époque Unix**](https://fr.wikipedia.org/wiki/Heure_Unix) située au 1er janvier 1970 à minuit (UTC). Mais en plus de ne pas être une mesure très rigoureuse, le stockage d'un nombre de secondes sous-entends le fuseau horaire UTC sans réellement l'expliciter, et cela peut porter à confusion lors de son usage dans une base de donnes ou dans une application.\n",
    "\n",
    "Autant pour facilier la gestion des dates que pour assurer une rigueur dans leur usage, Python propose la bibliothèque standard `datetime`, avec laquelle on utilise des objets et des méthodes afin de manipuler proprement et facilement des **dates** et des **heures**.\n",
    "\n",
    "Cette dernière propose notamment des moyens de représenter facilement soit juste une date, soit juste un horodatage, soit les deux. Voyons tout d'abord comment avoir la date ou l'horodatage du moment présent :"
   ]
  },
  {
   "cell_type": "code",
   "execution_count": 3,
   "metadata": {},
   "outputs": [
    {
     "name": "stdout",
     "output_type": "stream",
     "text": [
      "2024-04-30\n",
      "2024-04-30 15:22:55.996496\n"
     ]
    }
   ],
   "source": [
    "# Imports depuis la bibliothèque standard datetime\n",
    "from datetime import date, datetime\n",
    "\n",
    "date_instance = date.today() # 2024-04-30\n",
    "datetime_instance = datetime.now() # 2024-04-30 15:22:55.996496\n",
    "\n",
    "print(date_instance)\n",
    "print(datetime_instance)"
   ]
  },
  {
   "cell_type": "markdown",
   "metadata": {},
   "source": [
    "Grâce à ces fonctions, vous rencontrez déjà des instances des classes `date` et `datetime` sur lesquels on peut réaliser énormément d'opérations.\n",
    "\n",
    "On peut accéder très simplement à une valeur en particulier, par exemple :\n",
    "\n",
    "* Sur les `date` et `datetime` : `.day` pour le jour, `.month` pour le mois, `.year` pour l'année\n",
    "* Sur les `time` et `datetime` : `.hour` pour les heures, `.minute` pour les minutes, `.second` pour les secondes"
   ]
  },
  {
   "cell_type": "code",
   "execution_count": 5,
   "metadata": {},
   "outputs": [
    {
     "name": "stdout",
     "output_type": "stream",
     "text": [
      "Nous sommes en l'année 2024.\n",
      "Il est 15 heures et 25 minutes.\n"
     ]
    }
   ],
   "source": [
    "print(f\"Nous sommes en l'année {date.today().year}.\")\n",
    "print(f\"Il est {datetime.now().hour} heures et {datetime.now().minute} minutes.\")"
   ]
  },
  {
   "cell_type": "markdown",
   "metadata": {},
   "source": [
    "Il est également possible de créer un de ces objets en passant chaque valeur une à une, comme ci-dessous où l'on va créer une instance de chaque classe."
   ]
  },
  {
   "cell_type": "code",
   "execution_count": 6,
   "metadata": {},
   "outputs": [
    {
     "name": "stdout",
     "output_type": "stream",
     "text": [
      "2022-07-14\n",
      "13:14:31\n",
      "2020-01-31 13:14:31\n"
     ]
    }
   ],
   "source": [
    "from datetime import date, time, datetime\n",
    "\n",
    "# Création d'une date\n",
    "date_instance = date(year=2022, month=7, day=14)\n",
    "# Création d'un horaire\n",
    "time_instance = time(hour=13, minute=14, second=31)\n",
    "# Création d'une date avec horaire\n",
    "datetime_instance = datetime(year=2020, month=1, day=31, hour=13, minute=14, second=31)\n",
    "\n",
    "print(date_instance)\n",
    "print(time_instance)\n",
    "print(datetime_instance)"
   ]
  },
  {
   "cell_type": "markdown",
   "metadata": {},
   "source": [
    "Vous avez sûrement constaté que l'affichage de ces types, une fois implicitement convertis en `str` par la fonction `print()`, est assez rudimentaire.\n",
    "\n",
    "Il existe un moyen de choisir comment ces types seront convertis en chaîne de caractères grâce au **formatage**, c'est à dire indiquer comment afficher \"joliment\" une date et/ou un horaire.\n",
    "\n",
    "Sur la [documentation Python](https://docs.python.org/fr/3/library/datetime.html#strftime-and-strptime-format-codes) se trouve une liste de ce qu'on appelle des **directives**, qui servent à indiquer qu'à tel endroit d'une chaîne de caractères, l'on souhaite avoir le numéro d'un jour ou le nom du mois correspondant à une date.\n",
    "\n",
    "Le numéro du jour dans le mois s'affiche donc avec la directive `%d`, et l'année sur 4 chiffres s'affiche avec `%Y`, etc.\n",
    "\n",
    "Il suffit donc de passer une chaîne de caractères contenant ces **directives** à la méthode `.strftime()` sur l'instance d'un classe proposée par la bibliothèque `datetime`, et les directives seront remplacées par des valeurs."
   ]
  },
  {
   "cell_type": "code",
   "execution_count": 7,
   "metadata": {},
   "outputs": [
    {
     "name": "stdout",
     "output_type": "stream",
     "text": [
      "Tuesday 30 April, à 17:27:03\n"
     ]
    }
   ],
   "source": [
    "from datetime import datetime\n",
    "\n",
    "datetime_instance = datetime.now()\n",
    "print(datetime_instance.strftime(\"%A %d %B, à %H:%M:%S\"))"
   ]
  },
  {
   "cell_type": "markdown",
   "metadata": {},
   "source": [
    "On peut utiliser ces mêmes **directives** lorsque l'on veut rapidement créer une date/horaire à partir d'une chaîne de caractères qui contient une date et/ou un horaire dans un certain sens, afin d'indiquer à Python où se trouvent le jour, le mois, l'année, l'heure, les minutes... dans une chaîne de caractères.\n",
    "\n",
    "La fonction `datetime.strptime()` s'occupera de réaliser la conversion vers une classe de `datetime`."
   ]
  },
  {
   "cell_type": "code",
   "execution_count": 54,
   "metadata": {},
   "outputs": [
    {
     "name": "stdout",
     "output_type": "stream",
     "text": [
      "2021-04-13 13:37:10\n"
     ]
    }
   ],
   "source": [
    "from datetime import datetime\n",
    "\n",
    "created_at = \"13/04/2021 13:37:10\"\n",
    "converted_created_at = datetime.strptime(created_at, \"%d/%m/%Y %H:%M:%S\")\n",
    "print(converted_created_at)"
   ]
  },
  {
   "cell_type": "markdown",
   "metadata": {},
   "source": [
    "Cependant, lorsqu'une date respecte le format [ISO 8601](https://fr.wikipedia.org/wiki/ISO_8601), il n'y a pas besoin de préciser au module `datetime` comment comprendre une date écrite dans une chaîne de caractères.\n",
    "\n",
    "L'usage de la fonction `datetime.fromisoformat()` servira à obtenir directement une instance de la classe `datetime` dans ce cas précis."
   ]
  },
  {
   "cell_type": "code",
   "execution_count": 3,
   "metadata": {},
   "outputs": [
    {
     "name": "stdout",
     "output_type": "stream",
     "text": [
      "Le match démarre à 19:30\n"
     ]
    }
   ],
   "source": [
    "from datetime import datetime\n",
    "\n",
    "event_start = \"2023-07-13T19:30:00+12:00\"\n",
    "kickoff = datetime.fromisoformat(event_start)\n",
    "print(f\"Le match démarre à {kickoff.hour}:{kickoff.minute}.\")\n"
   ]
  },
  {
   "cell_type": "markdown",
   "metadata": {},
   "source": [
    "Il existe également un moyen d'additionner ou soustraire des valeurs à l'aide du type [timedelta](https://docs.python.org/fr/3/library/datetime.html#timedelta-objects), qui représente uniquement **une durée**.\n",
    "\n",
    "Par exemple, si l'on veut savoir quel jour il sera dans 2 semaines, ou dans 48 heures, etc... il suffit d'instancier le type `timedelta` avec la durée souhaitée, puis de le soustraire ou de l'additionner à autre chose."
   ]
  },
  {
   "cell_type": "code",
   "execution_count": 12,
   "metadata": {},
   "outputs": [
    {
     "name": "stdout",
     "output_type": "stream",
     "text": [
      "Nous sommes le 30/04/2024.\n",
      "La migration de votre serveur sera terminée d'ici le 14/05/2024.\n"
     ]
    }
   ],
   "source": [
    "from datetime import timedelta\n",
    "\n",
    "# Création d'une durée de 2 semaines\n",
    "migration_duration = timedelta(weeks=2)\n",
    "\n",
    "# Addition de la durée de 2 semaines au moment présent\n",
    "migration_end = date.today() + migration_duration\n",
    "\n",
    "print(f\"Nous sommes le {date.today().strftime('%d/%m/%Y')}.\")\n",
    "print(f\"La migration de votre serveur sera terminée d'ici le {migration_end.strftime('%d/%m/%Y')}.\")"
   ]
  },
  {
   "cell_type": "markdown",
   "metadata": {},
   "source": [
    "Mais il est également possible de soustraire des dates entre elles afin d'en obtenir l'**intervalle** entre elles. Par exemple, soustraire une date future et aujourd'hui permet d'obtenir le nombre de jours restant avant d'y arriver."
   ]
  },
  {
   "cell_type": "code",
   "execution_count": null,
   "metadata": {},
   "outputs": [
    {
     "name": "stdout",
     "output_type": "stream",
     "text": [
      "Il reste 836 jours avant les jeux de Paris.\n"
     ]
    }
   ],
   "source": [
    "from datetime import date\n",
    "\n",
    "countdown = date(day=26, month=7, year=2024) - date.today()\n",
    "\n",
    "print(f\"Il reste {countdown.days} jours avant les jeux de Paris.\")"
   ]
  },
  {
   "cell_type": "markdown",
   "metadata": {},
   "source": [
    "---\n",
    "\n",
    "## 🧰 Bibliothèque standard - `json`\n",
    "\n",
    "Né du monde JavaScript, le format **JSON** s'est plus ou moins imposé face au XML comme étant un format d'échange de données plus léger que ce dernier, et surtout plus pratique à implémenter dans les langages qui souhaitent l'utiliser.\n",
    "\n",
    "Techniquement, JSON est un \"sous-ensemble limité\" du langage JavaScript, d'où le fait que son écriture ressemble à ce dernier tout en ayant des restrictions (absence des commentaires...). De ce fait, vous pouvez écrire un objet JSON au milieu d'un code JavaScript et le manipuler directement.\n",
    "\n",
    "Ce format est donc fréquemment utilisé pour échanger des informations de manière structurée avec des API, mais on peut également s'en servir pour stocker des données dans des fichiers sous un format lisible autant par les humains que par des applications. On parle alors de \"document JSON\", sans que l'extension de fichier `.json` ne soit forcément imposée. La preuve, le notebook Jupyter que vous êtes en train de consulter est en réalité un document JSON !\n",
    "\n",
    "Lorsque l'on travaille avec ce format dans un autre langage que JavaScript, on doit forcément convertir les données au format JSON en données lisibles par le langage que nous utilisons. L'action de conversion depuis le format JSON se dit **désérialiser**, et la conversion vers le format JSON se dit **sérialiser**.\n",
    "\n",
    "Il y a peu de méthodes sur cette bibliothèque, mais leur orthographe peut semer la confusion :\n",
    "\n",
    "* `.load()` déserialise du JSON en Python, à partir d'un fichier ouvert (avec `open()` par exemple)\n",
    "* `.dump()` sérialise du Python en JSON, dans un fichier ouvert (avec `open()` par exemple)\n",
    "* `.loads()` déserialise du JSON en Python, à partir d'une chaîne de caractères\n",
    "* `.dumps()` sérialise du Python en JSON, dans une chaîne de caractères\n",
    "\n",
    "Les méthodes au **singulier** s'utilisent donc avec des fichiers, quand celles au **pluriel** s'utilisent avec des chaînes de caractères.\n",
    "\n",
    "Importons la bibliothèque puis effectuons une **sérialisation** toute simple d'une valeur Python vers du JSON :"
   ]
  },
  {
   "cell_type": "code",
   "execution_count": 13,
   "metadata": {},
   "outputs": [
    {
     "name": "stdout",
     "output_type": "stream",
     "text": [
      "null\n",
      "<class 'str'>\n"
     ]
    }
   ],
   "source": [
    "import json\n",
    "\n",
    "serialized = json.dumps(None)\n",
    "\n",
    "print(serialized)\n",
    "print(type(serialized))"
   ]
  },
  {
   "cell_type": "markdown",
   "metadata": {},
   "source": [
    "On obtiens donc la chaîne de caractères \"null\", et l'on voit bien que le type de valeur en Python a été correctement \"traduite\" vers le type correspondant en JavaScript.\n",
    "\n",
    "`True` deviendra par exemple `true`, tout en minuscules. Pour le reste des valeurs, comme les nombres, les listes ou dictionnaires, leur écriture en JSON est assez similaire au Python.\n",
    "\n",
    "Faisons désormais la sérialisation vers du JSON d'une valeur Python un peu plus complexe :"
   ]
  },
  {
   "cell_type": "code",
   "execution_count": null,
   "metadata": {},
   "outputs": [
    {
     "name": "stdout",
     "output_type": "stream",
     "text": [
      "[{\"name\": \"john\", \"year\": 2013, \"is_debug\": true}]\n"
     ]
    }
   ],
   "source": [
    "import json\n",
    "\n",
    "py_list = [\n",
    "    {\n",
    "        \"name\": \"john\",\n",
    "        \"year\": 2013,\n",
    "        \"is_debug\": True\n",
    "    }\n",
    "]\n",
    "\n",
    "json_serialized = json.dumps(py_list)\n",
    "\n",
    "print(json_serialized)"
   ]
  },
  {
   "cell_type": "markdown",
   "metadata": {},
   "source": [
    "Ici, toute la liste et son contenu ont été converties en valeurs JSON, et réduites en une simple ligne (qui est toujours une chaîne de caractères). On peut donc ensuite très facilement la transmettre ou encore la sauvegarder quelque part.\n",
    "\n",
    "Procédons maintenant à l'opération inverse, c'est à dire la **désérialisation** d'un objet JSON vers du Python."
   ]
  },
  {
   "cell_type": "code",
   "execution_count": null,
   "metadata": {},
   "outputs": [
    {
     "name": "stdout",
     "output_type": "stream",
     "text": [
      "{'site_url': 'www.superwebsite.dev', 'site_port': 8080, 'debug_mode': False}\n",
      "www.superwebsite.dev\n"
     ]
    }
   ],
   "source": [
    "import json\n",
    "\n",
    "# Pour rappel, les trois guillemets permettent d'écrire du texte multi-lignes\n",
    "json_data = \"\"\"\n",
    "{\n",
    "    \"site_url\": \"www.superwebsite.dev\",\n",
    "    \"site_port\": 8080,\n",
    "    \"debug_mode\": false\n",
    "}\n",
    "\"\"\"\n",
    "\n",
    "python_data = json.loads(json_data)\n",
    "\n",
    "print(python_data)\n",
    "print(python_data[\"site_url\"])"
   ]
  },
  {
   "cell_type": "markdown",
   "metadata": {},
   "source": [
    "Après la **déserialisation** de cet objet JSON, qui était un dictionnaire, on obtient également un dictionnaire Python et l'on peut s'en servir directement en tant que tel. Toute modification réalisée en Python ne sera pas répliquée sur l'objet JSON original et vice-versa : il faudra à nouveau sérialiser ou désérialiser au moment voulu.\n",
    "\n",
    "Pour ce qui est des méthodes au singulier `json.load()` et `json.dump()`, elles nécessitent donc d'être utilisées avec un fichier qui est ouvert. C'est ce que nous permet la fonction Python built-in `open()` vue au dernier chapitre !\n",
    "\n",
    "Étant donné que l'on souhaite généralement stocker plusieurs valeurs dans un fichier, on utilisera alors un dictionnaire dans lequel on rangera toutes les valeurs souhaitées."
   ]
  },
  {
   "cell_type": "code",
   "execution_count": 14,
   "metadata": {},
   "outputs": [
    {
     "name": "stdout",
     "output_type": "stream",
     "text": [
      "{'cities': [{'name_ja': '東京都', 'name_latin': 'Tōkyō', 'population': 13960236}, {'name_ja': '大阪市', 'name_latin': 'Osaka', 'population': 2751862}, {'name_ja': '福岡市', 'name_latin': 'Fukuoka', 'population': 1603043}]}\n",
      "\n",
      "Tōkyō a une population de 13960236 habitants.\n",
      "\n",
      "Osaka a une population de 2751862 habitants.\n",
      "\n",
      "Fukuoka a une population de 1603043 habitants.\n"
     ]
    }
   ],
   "source": [
    "import json\n",
    "\n",
    "# Construction du chemin vers le fichier à lire\n",
    "path = os.path.join(\"assets\", \"testdata.json\")\n",
    "# On déclare la variable en dehors du scope du \"with\" pour pouvoir y accéder\n",
    "python_data = None\n",
    "\n",
    "# Ouverture d'un fichier...\n",
    "with open(path, \"r\", encoding=\"utf-8\") as f:\n",
    "    # Lecture et conversion du JSON en même temps\n",
    "    python_data = json.load(f)\n",
    "\n",
    "print(python_data)\n",
    "\n",
    "for city in python_data['cities']:\n",
    "    print(f\"\\n{city['name_latin']} a une population de {city['population']} habitants.\")"
   ]
  },
  {
   "cell_type": "markdown",
   "metadata": {},
   "source": [
    "Quant à la fonction `json.dump()`, on peut lui passer la valeur Python que l'on souhaite sérialiser ainsi que le fichier de destination que l'on vient d'ouvrir en mode écriture.\n"
   ]
  },
  {
   "cell_type": "code",
   "execution_count": null,
   "metadata": {},
   "outputs": [],
   "source": [
    "import json\n",
    "\n",
    "# Construction du chemin vers le fichier à lire\n",
    "path = os.path.join(\"..\", \"assets\", \"serialized.json\")\n",
    "# Dictionnaire Python qui sera converti plus tard en JSON\n",
    "python_data = {\n",
    "    \"languages\": [\"Python\", \"Java\", \"C#\", \"JavaScript\", \"HTML\", \"CSS\"]\n",
    "}\n",
    "\n",
    "# Le mode \"w\" (write) va écrire dans le fichier en remplaçant tout son contenu\n",
    "with open(path, \"w\", encoding=\"utf-8\") as f:\n",
    "    # Conversion et écriture du JSON en même temps\n",
    "    json.dump(python_data, f)"
   ]
  },
  {
   "cell_type": "markdown",
   "metadata": {},
   "source": [
    "Vous pouvez désormais ouvrir le fichier `serialized.json` du dossier `assets` pour y voir nos données converties au format JSON."
   ]
  },
  {
   "cell_type": "markdown",
   "metadata": {},
   "source": [
    "---\n",
    "\n",
    "## ⚙️ Installer un paquet avec PIP\n",
    "\n",
    "Lorsque l'on souhaite utiliser des projets tiers qui ne sont pas inclus dans le langage que l'on utilise, il faudra toujours installer ce qu'on appelle des **\"paquets\"**, et ce à l'aide d'un **gestionnaire de paquets**.\n",
    "\n",
    "Dans le cas de Python, l'intégralité des paquets installables sont recensés sur [PyPI](https://pypi.org/), et le gestionnaire de paquets s'appelle **PIP**.\n",
    "\n",
    "Contrairement à d'autres langages, un paquet installé en Python sera installé \"globalement\", c'est à dire que le paquet sera lié à votre installation de Python plutôt qu'à votre projet ou répertoire en cours. Nous verrons plus tard une façon de résoudre ce problème. \n",
    "\n",
    "PIP s'appelle dans un terminal comme n'importe quelle autre application, et possède plusieurs commandes pour gérer les paquets tiers. En voici quelques-unes :\n",
    "\n",
    "* `pip list` : liste tous les paquets installés\n",
    "* `pip install [paquet]` : installe un paquet\n",
    "* `pip uninstall [paquet]` : désinstalle un paquet \n",
    "\n",
    "Ainsi, si vous souhaitez installer le paquet `Pillow`, il suffira d'écrire `pip install Pillow`"
   ]
  },
  {
   "cell_type": "markdown",
   "metadata": {},
   "source": [
    "### Le fichier requirements.txt\n",
    "\n",
    "Pour garder une trace des paquets tiers dont on a besoin dans un projet, on utilise un fichier `requirements.txt` qui peut être écrit et lu par PIP. Combiné aux environnements virtuels, c'est donc quelque chose d'extrêmement pratique. \n",
    "\n",
    "Après avoir installé les paquets nécessaires à votre projet au sein d'un environnement virtuel, vous pouvez rapidement exporter la liste de ces paquets puis l'écrire dans le fichier `requirements.txt` en exécutant ceci :\n",
    "\n",
    "`pip freeze > requirements.txt`\n",
    "\n",
    "Techniquement, cela va y inscrire la version exacte des paquets installés, afin d'être certain d'assuré la compatibilité avec votre code.\n",
    "\n",
    "Ensuite, lorsqu'il sera l'occasion de devoir installer tous les paquets nécessaires au projet, la commande `install` pourra lire ce fichier de cette façon :\n",
    "\n",
    "`pip install -r requirements.txt`"
   ]
  },
  {
   "cell_type": "markdown",
   "metadata": {},
   "source": [
    "---\n",
    "\n",
    "## ⚙️ Les environnements virtuels\n",
    "\n",
    "Derrière ce nom se cache un moyen d'avoir facilement **une copie de votre installation de Python** afin de travailler de façon \"isolée\". Le premier avantage d'utiliser cette installation isolée, que l'on appelle un **environnement virtuel**, est que tous les paquets installés avec PIP y seront exclusifs.\n",
    "\n",
    "Ainsi, on évite toutes les contraintes liées au fait que les paquets soient d'habitude installés de façon globale, qu'importe l'endroit sur votre ordinateur duquel vous appelez Python.\n",
    "\n",
    "Par exemple, si vous avez un projet nécessitant le paquet `Django` en version 2.0, et un autre projet qui en ait besoin dans sa version 3.0, le fait que chaque projet possède alors son propre **environnement virtuel** permettra d'y installer juste les paquets nécessaires dans la version exacte nécessaire à leur bon fonctionnement.\n",
    "\n",
    "Bien que l'on ait l'habitude d'utiliser un projet tiers nommé `virtualenv` pour créer ces environnements virtuels, le module `venv` est désormais inclus dans Python à partir de la version 3.4 du langage : nous utiliserons donc ce dernier par simplicité.\n"
   ]
  },
  {
   "cell_type": "markdown",
   "metadata": {},
   "source": [
    "\n",
    "### Créer un environnement virtuel\n",
    "\n",
    "La création d'un environnement virtuel se fait dans un terminal avec la commande suivante :\n",
    "\n",
    "`python -m venv [nom]` \n",
    "\n",
    "Une fois situé dans le dossier racine de votre projet, qui s'appelle par exemple `projet_python`, la création d'un envionnement nommé par exemple \"monenv\" se fera alors comme ceci :\n",
    "\n",
    "`python -m venv monenv` \n",
    "\n",
    "![Arborescence d'un projet avec venv](assets/venv.svg)\n",
    "\n",
    "Comme indiqué sur l'image ci-dessus, votre environnement prend simplement la forme d'un dossier. C'est là-dedans que sont stockées les informations relatives à votre environnement virtuel, les paquets qui y seront installés, etc.\n",
    "\n",
    "Pour information, ce dossier n'est pas à inclure dans un dépôt Git : il faut laisser les personnes (ou les scripts automatisés) qui accèdent au projet le soin de créer eux-mêmes un environnement virtuel.\n"
   ]
  },
  {
   "cell_type": "markdown",
   "metadata": {},
   "source": [
    "### Utiliser un environnement virtuel\n",
    "\n",
    "Pour utiliser un environnement virtuel, on dit que l'on va **activer** ce dernier.\n",
    "\n",
    "Toujours dans un terminal, le fait d'exécuter un certain fichier fera en sorte que l'on soit désormais \"dans\" l'environnement virtuel lorsque l'on fera appel plus tard à `python` ou à `pip`.\n",
    "\n",
    "Le fichier d'activation n'est pas le même selon l'invite de commande que vous utilisez :\n",
    "\n",
    "\n",
    "* Pour l'invite de commande **Windows par défaut** (cmd)\n",
    "\n",
    "`.\\monenv\\Scripts\\activate.bat`\n",
    "\n",
    "* Pour l'invite de commande **Windows PowerShell**\n",
    "\n",
    "`.\\monenv\\Scripts\\activate.ps1`\n",
    "\n",
    "* Pour un invite de commande **bash** et dérivés (Linux, macOS, WSL...)\n",
    "\n",
    "`source .\\monenv\\Scripts\\activate`\n",
    "\n",
    "![Activation dans des terminaux](assets/venv_activate.png)\n",
    "\n",
    "Tel que montré ci-dessus, que notre environnement virtuel soit activé dans **PowerShell** ou dans **cmd**, on voit visuellement la différence avec l'ajout du nom de notre environnement au début de chaque nouvelle ligne. Cela permet de nous souvenir que nous sommes actuellement \"dans\" notre environnement virtuel.\n",
    "\n",
    "<details>\n",
    "  <summary>【💡 Spoiler】</summary>\n",
    "  En réalité, l'activation simplement va faire en sorte que, lorsque vous appelez python ou pip dans votre terminal, ce dernier aille utiliser les exécutables correspondants dans le dossier de votre environnement, plutôt que d'utiliser les exécutables installés sur votre système d'exploitation.\n",
    "</details>\n",
    "\n",
    "Pour **\"sortir\"** de votre environnement virtuel, vous pouvez bien sûr soit quitter votre invite de commande, soit taper tout simplement la commande suivante :\n",
    "\n",
    "`deactivate`\n",
    "\n",
    "![Désactivation dans un terminal](assets/venv_deactivate.png)\n",
    "\n",
    "Vous pouvez ci-dessus constater visuellement la sortie de l'environnement virtuel."
   ]
  },
  {
   "cell_type": "markdown",
   "metadata": {},
   "source": [
    "---\n",
    "\n",
    "## 📚 Bibliothèque tierce - Pillow\n",
    "\n",
    "Maintenant que nous savons installer des paquets pour utiliser des projets tiers, essayons d'utiliser le projet [**Pillow**](https://pillow.readthedocs.io/en/stable/index.html). C'est un dérivé moderne d'une ancienne bibliothèque nommée \"PIL\" visant à manipuler des images en Python. Aujourd'hui, Pillow est une bibliothèque de référence lorsqu'il s'agit de lire et manipuler des images.\n",
    "\n",
    "Pour l'installer, ouvrez un invite de commandes sur votre ordinateur et tapez `pip install Pillow`.\n",
    "Fermez puis rouvrez ce cours lorsque cela sera fait.\n",
    "\n",
    "Commençons à utiliser la bibliothèque par un premier exemple très simple : ouvrir une image, réduire son nombre de couleurs, puis l'afficher."
   ]
  },
  {
   "cell_type": "code",
   "execution_count": 24,
   "metadata": {},
   "outputs": [],
   "source": [
    "import os\n",
    "from PIL import Image\n",
    "\n",
    "# Construction du chemin vers l'image à l'aide de os.path\n",
    "image_path = os.path.join(\"assets\", \"osaka.jpg\")\n",
    "\n",
    "# Ouverture de l'image, qui sera utilisable en tant que variable \"im\"\n",
    "with Image.open(image_path) as im:\n",
    "    # Réduction des couleurs, puis affichage\n",
    "    im.quantize(colors=30).show()"
   ]
  },
  {
   "cell_type": "markdown",
   "metadata": {},
   "source": [
    "Une fois une image ouverte avec Pillow, on a alors une instance de la classe `Image` sur laquelle de nombreuses fonctions sont disponibles pour la modifier ou en obtenir des informations. Référez-vous à sa page dans la [**documentation**](https://pillow.readthedocs.io/en/stable/reference/Image.html) pour avoir une liste exhaustive de ce que l'on peut faire.\n",
    "\n",
    "Bien sûr, la méthode `.show()` affichant une image n'est à utiliser qu'en conditions de test comme ici. En temps normal, on voudra plutôt sauvegarder notre image après l'avoir modifiée, et idéalement sous un autre nom pour ne pas écraser l'image originale. Voyons cela."
   ]
  },
  {
   "cell_type": "code",
   "execution_count": 19,
   "metadata": {},
   "outputs": [],
   "source": [
    "import os\n",
    "from PIL import Image\n",
    "\n",
    "# Construction du chemin vers l'image à l'aide de os.path\n",
    "path = os.path.join(\"assets\", \"osaka.jpg\")\n",
    "\n",
    "with Image.open(path) as im:\n",
    "    # Réduction de l'image à une taille de 256*256 pixels maximum\n",
    "    im.thumbnail((256, 256))\n",
    "    # \"filename\" recevra le chemin et le nom du fichier, \"ext\" recevra juste l'extension\n",
    "    filename, ext = os.path.splitext(path)\n",
    "    # Le nom du nouveau fichier utilise le chemin et l'extension du fichier original\n",
    "    destination = f\"{filename}_thumbnail{ext}\"\n",
    "    # Sauvegarde de l'image au format JPEG\n",
    "    im.save(destination, \"JPEG\")"
   ]
  },
  {
   "cell_type": "markdown",
   "metadata": {},
   "source": [
    "Grâce à une méthode `.thumbnail()`, nous avons rapidement créé une version miniature d'une image existante. C'est quelque chose qui pourra être utile si vous êtes amené à gérer un upload d'image, par exemple.\n",
    "\n",
    "Une autre façon de manipuler nos images est de **dessiner** par-dessus. Pour cela, il faudra importer le module `ImageDraw` pour y passer l'image sur laquelle on souhaite dessiner, et utiliser [ses nombreuses méthodes](https://pillow.readthedocs.io/en/stable/reference/ImageDraw.html).\n",
    "\n",
    "Avant de continuer, il faut d'abord comprendre le passage de coordonnées lorsque l'on appelle les méthodes de ce module. Pour dessiner un rectangle par exemple, au lieu de donner des coordonnées de départ puis la largeur et la hauteur du rectangle souhaité, on passe d'abord des **coordonnées de départ** puis des **coordonnées d'arrivée**, le tout dans un seul **tuple**.\n",
    "\n",
    "Pour ce qui est de l'**origine des coordonnées** d'ailleurs, elle se situe toujours en haut à gauche.\n",
    "\n",
    "![Explication des coordonnées](assets/pillow.svg)\n",
    "\n",
    "Dessinons un rectangle à un endroit précis et avec une couleur précise."
   ]
  },
  {
   "cell_type": "code",
   "execution_count": 50,
   "metadata": {},
   "outputs": [],
   "source": [
    "import os\n",
    "from PIL import Image, ImageDraw\n",
    "\n",
    "\n",
    "# Construction du chemin vers l'image à l'aide de os.path\n",
    "image_path = os.path.join(\"assets\", \"osaka.jpg\")\n",
    "\n",
    "# Ouverture de l'image, qui sera utilisable en tant que variable \"im\"\n",
    "with Image.open(image_path) as im:\n",
    "    # Réduction des couleurs, puis affichage\n",
    "    # On transmet notre image à une classe permettant d'y dessiner dessus\n",
    "    draw = ImageDraw.Draw(im)\n",
    "    # Le premier argument est un tuple indiquant les positions x et y de départ,\n",
    "    # puis les positions x et y d'arrivée. Pour la couleur de remplissage (fill),\n",
    "    # il faut l'écrire avec un tuple au format RGB (rouge, vert, bleu)\n",
    "    draw.rectangle((280, 150, 700, 220), fill=(0, 126, 72))\n",
    "    \n",
    "    # Afficher l'image (J'ajoute rotate(0) car j'ai une erreur sans)        \n",
    "    im.rotate(0).show()"
   ]
  },
  {
   "cell_type": "markdown",
   "metadata": {},
   "source": [
    "Une autre méthode très utile de `ImageDraw` nous permet d'écrire le texte de notre choix sur une image, en précisant également sa couleur."
   ]
  },
  {
   "cell_type": "code",
   "execution_count": 51,
   "metadata": {},
   "outputs": [],
   "source": [
    "import os\n",
    "from PIL import Image, ImageDraw\n",
    "\n",
    "path = os.path.join(\"assets\", \"osaka.jpg\")\n",
    "\n",
    "color_white = (255, 255, 255)\n",
    "color_black = (0, 0, 0)\n",
    "\n",
    "with Image.open(path) as im:\n",
    "    draw = ImageDraw.Draw(im)\n",
    "    draw.rectangle((280, 150, 700, 220), fill=color_white)\n",
    "    # Une position et un texte suffisent à écrire sur l'image\n",
    "    draw.text((400, 180), \"Fukuoka\", fill=color_black)\n",
    "    im.rotate(0).show()"
   ]
  },
  {
   "cell_type": "markdown",
   "metadata": {},
   "source": [
    "Bien que la fonction d'écriture de texte fonctionne, la police par défaut est assez petite, et sans spécialement très lisible belle non plus.\n",
    "\n",
    "Pour cela, le module `ImageFont` de Pillow permet d'utiliser un **fichier de police d'écriture** afin d'écrire du texte avec.\n",
    "\n",
    "Le seul petit inconvénient est qu'il faille toujours ouvrir un fichier de police avec une taille prévue à l'avance : si vous voulez donc utiliser la même police à des tailles différentes, il faudra la préparer plusieurs fois à l'avance avec plusieurs tailles."
   ]
  },
  {
   "cell_type": "code",
   "execution_count": 53,
   "metadata": {},
   "outputs": [],
   "source": [
    "import os\n",
    "from PIL import Image, ImageDraw, ImageFont\n",
    "\n",
    "path = os.path.join(\"assets\", \"osaka.jpg\")\n",
    "path_font = os.path.join(\"assets\", \"OpenSans-Bold.ttf\")\n",
    "\n",
    "color_white = (255, 255, 255)\n",
    "color_black = (0, 0, 0)\n",
    "\n",
    "# On prépare l'usage d'une police, en précisant la taille souhaitée qui est ici à 42\n",
    "font_opensans_42pt = ImageFont.truetype(path_font, 42)\n",
    "\n",
    "with Image.open(path) as im:\n",
    "    draw = ImageDraw.Draw(im)\n",
    "    draw.rectangle((280, 150, 700, 220), fill=color_white)\n",
    "    # On écrit le texte en précisant la police, et toujours la couleur\n",
    "    draw.text((400, 155), \"Fukuoka\", font=font_opensans_42pt, fill=color_black)\n",
    "    im.rotate(0).show()"
   ]
  },
  {
   "cell_type": "markdown",
   "metadata": {},
   "source": [
    "---\n",
    "\n",
    "# Exercice\n",
    "\n",
    "Une fois ce cours terminé, vous pourrez réaliser l'exercice du dossier `rugby`."
   ]
  }
 ],
 "metadata": {
  "kernelspec": {
   "display_name": "Python 3.9.2 64-bit",
   "language": "python",
   "name": "python3"
  },
  "language_info": {
   "codemirror_mode": {
    "name": "ipython",
    "version": 3
   },
   "file_extension": ".py",
   "mimetype": "text/x-python",
   "name": "python",
   "nbconvert_exporter": "python",
   "pygments_lexer": "ipython3",
   "version": "3.11.3"
  },
  "metadata": {
   "interpreter": {
    "hash": "d94eb1066f04d8685077601812ddd3c592b7f56086c802177159e4b57cd392de"
   }
  },
  "vscode": {
   "interpreter": {
    "hash": "1d4def49ef25296402df10df14a9c465bd00f11a0d402a6223995fb653badb0d"
   }
  }
 },
 "nbformat": 4,
 "nbformat_minor": 4
}
